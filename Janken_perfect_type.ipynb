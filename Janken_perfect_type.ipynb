{
  "nbformat": 4,
  "nbformat_minor": 0,
  "metadata": {
    "colab": {
      "name": "Janken perfect type",
      "provenance": [],
      "authorship_tag": "ABX9TyPPxLn4i7sUIyFQ3nNy37hb",
      "include_colab_link": true
    },
    "kernelspec": {
      "name": "python3",
      "display_name": "Python 3"
    },
    "language_info": {
      "name": "python"
    }
  },
  "cells": [
    {
      "cell_type": "markdown",
      "metadata": {
        "id": "view-in-github",
        "colab_type": "text"
      },
      "source": [
        "<a href=\"https://colab.research.google.com/github/ArthurLeywin1147/ArthurLeywin1147/blob/main/Janken_perfect_type.ipynb\" target=\"_parent\"><img src=\"https://colab.research.google.com/assets/colab-badge.svg\" alt=\"Open In Colab\"/></a>"
      ]
    },
    {
      "cell_type": "code",
      "execution_count": null,
      "metadata": {
        "id": "s_eEN8YYcC5k"
      },
      "outputs": [],
      "source": [
        ""
      ]
    },
    {
      "cell_type": "code",
      "source": [
        "import random\n",
        "\n",
        "hands=['グー', 'チョキ', 'パー']\n",
        "\n",
        "print('0:グー 1:チョキ 2:パー')\n",
        "\n",
        "input_str=input('ここに番号を入力してね！>>>')\n",
        "\n",
        "hand_num=int(input_str)\n",
        "\n",
        "computer_hand_num=random.randrange(3)\n",
        "\n",
        "computer_hand=hands[computer_hand_num]\n",
        "\n",
        "player_hand=hands[hand_num]\n",
        "\n",
        "print('あなたは'+player_hand+'を出しました')\n",
        "\n",
        "print('コンピューターは'+computer_hand+'を出しました')\n",
        "\n",
        "win_or_loss=computer_hand_num-hand_num\n",
        "\n",
        "if win_or_loss==0:\n",
        " \n",
        "    print('あいこだね')\n",
        "\n",
        "elif win_or_loss==1 or win_or_loss==2:\n",
        "\n",
        "    print('あなたの負け')\n",
        "\n",
        "elif win_or_loss==-2 or win_or_loss==1:\n",
        "    print('あなたの勝ち')"
      ],
      "metadata": {
        "colab": {
          "base_uri": "https://localhost:8080/"
        },
        "id": "NqJ5Ub1iUCSV",
        "outputId": "24cce3b7-482d-4e6a-b1a6-721856ba8286"
      },
      "execution_count": 6,
      "outputs": [
        {
          "output_type": "stream",
          "name": "stdout",
          "text": [
            "0:グー 1:チョキ 2:パー\n",
            "ここに番号を入力してね！>>>1\n",
            "あなたはチョキを出しました\n",
            "コンピューターはチョキを出しました\n",
            "あいこだね\n"
          ]
        }
      ]
    }
  ]
}