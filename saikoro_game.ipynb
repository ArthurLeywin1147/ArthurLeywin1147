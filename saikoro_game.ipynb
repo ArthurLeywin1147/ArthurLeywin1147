{
  "nbformat": 4,
  "nbformat_minor": 0,
  "metadata": {
    "colab": {
      "name": "saikoro game",
      "provenance": [],
      "authorship_tag": "ABX9TyNuQqJmyp0I/IkFZ3b6TXIr",
      "include_colab_link": true
    },
    "kernelspec": {
      "name": "python3",
      "display_name": "Python 3"
    },
    "language_info": {
      "name": "python"
    }
  },
  "cells": [
    {
      "cell_type": "markdown",
      "metadata": {
        "id": "view-in-github",
        "colab_type": "text"
      },
      "source": [
        "<a href=\"https://colab.research.google.com/github/ArthurLeywin1147/ArthurLeywin1147/blob/main/saikoro_game.ipynb\" target=\"_parent\"><img src=\"https://colab.research.google.com/assets/colab-badge.svg\" alt=\"Open In Colab\"/></a>"
      ]
    },
    {
      "cell_type": "code",
      "execution_count": null,
      "metadata": {
        "colab": {
          "base_uri": "https://localhost:8080/"
        },
        "id": "I6JKA0wOeUTr",
        "outputId": "65251261-d535-41fe-b0fe-3d5e636aa1fd"
      },
      "outputs": [
        {
          "output_type": "stream",
          "name": "stdout",
          "text": [
            "Enterで対決開始\n",
            "あなたの出目\n",
            "[6, 5, 4]\n",
            "コンピュータの出目\n",
            "[6, 2, 4]\n",
            "15対12でYour Win\n"
          ]
        }
      ],
      "source": [
        "import random\n",
        "\n",
        "input('Enterで対決開始')\n",
        "\n",
        "while True:\n",
        "\n",
        "\tprint('あなたの出目')\n",
        " \n",
        "\tyou=[random.randint(1,6) for i in range(3)]\n",
        "\n",
        "\tprint(you)\n",
        "\n",
        "\tprint('コンピュータの出目')\n",
        "\n",
        "\tpc=[random.randint(1,6) for i in range(3)]\n",
        "\n",
        "\tprint(pc)\n",
        "\n",
        "\tyou_sum=sum(you)\n",
        "\n",
        "\tif len(set(you)) == 1:\n",
        "\n",
        "\t\tyou_sum*=2\n",
        "\n",
        "\tpc_sum=sum(pc)\n",
        "\n",
        "\tif len(set(pc))==1:\n",
        "\n",
        "\t\tpc_sum *=2\n",
        "\n",
        "\tresult='あいこ' if you_sum == pc_sum else 'Your Win' if you_sum > pc_sum else 'Your Lose'\n",
        "\n",
        "\tprint(f'{you_sum}対{pc_sum}で{result}')\n",
        " \n",
        "\tselect=input('One more time?<y/n>>>')\n",
        "\n",
        "\tif select != 'y':\n",
        "\n",
        "\t\tbreak\n",
        "\n",
        "print('Finish')"
      ]
    }
  ]
}